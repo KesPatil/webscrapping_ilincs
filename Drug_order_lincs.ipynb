{
 "cells": [
  {
   "cell_type": "markdown",
   "metadata": {},
   "source": [
    "#### This code will take in list of drugs aimed at targetting Prostate Cancer disease and output the rank ordered list of them based on LINCS(http://www.ilincs.org/ilincs/) gene signature reversal. It does so by automatically extracting drug gene signatures from the iLINCS website and computing the discordance wrt to the disease gene signature<br>\n",
    "\n",
    "#### Inputs: \n",
    "#### 1. Drug list \n",
    "#### 2. Differential Gene expression of Prostate Cancer disease\n",
    "        \n",
    "#### Outputs: \n",
    "#### 1. Rank ordered list of drugs based on gene signature reversal\n",
    "\n",
    "#### ----------------------------------------------------------------------------------------------------------------------"
   ]
  },
  {
   "cell_type": "markdown",
   "metadata": {},
   "source": [
    "The following function takes hold of latest downloaded file and renames it to preferred extension that is easy to process"
   ]
  },
  {
   "cell_type": "code",
   "execution_count": 1,
   "metadata": {},
   "outputs": [],
   "source": [
    "import os\n",
    "import time\n",
    "def latest_download_file():\n",
    "      path = '/Users/keshavpatil/Downloads'  #change this to wherever your files get downloaded by default\n",
    "      os.chdir(path)\n",
    "      files = sorted(os.listdir(os.getcwd()), key=os.path.getmtime)\n",
    "      newest = files[-1]\n",
    "\n",
    "      return newest\n",
    "\n",
    "fileends = \"crdownload\"\n",
    "while \"crdownload\" == fileends:\n",
    "    time.sleep(1)\n",
    "    newest_file = latest_download_file()\n",
    "    if \"crdownload\" in newest_file:\n",
    "        fileends = \"crdownload\"\n",
    "    else:\n",
    "        fileends = \"none\""
   ]
  },
  {
   "cell_type": "markdown",
   "metadata": {},
   "source": [
    "The following function checks if certain button is available on the webpage"
   ]
  },
  {
   "cell_type": "code",
   "execution_count": 2,
   "metadata": {},
   "outputs": [],
   "source": [
    "def existsElement(driver, s):\n",
    "\n",
    "    try:   \n",
    "        button = driver.find_element_by_partial_link_text('Found 0 of LINCS chemical perturbagen signatures')     \n",
    "    except NoSuchElementException:\n",
    "        return True\n",
    "    return False"
   ]
  },
  {
   "cell_type": "markdown",
   "metadata": {},
   "source": [
    "- The following cell uses python package called selenium (you have to install this!) which is an excellent tool for webscrapping. The code\n",
    "used Chrome Driver (you have to install this!) to automate the data extraction from the web page <br>\n",
    "- This cell looks for the drug name and reports back if the drug name is not found and moves to the next drug in the list, also if the drug name is found but the certain unique conditions of the experiments are not available it reports back and moves to the next drug in the list <br>\n",
    "- The webdriver looks up for specific buttons to be clicked by unique identifiers found in the source code (HTML, CSS) of the webpage"
   ]
  },
  {
   "cell_type": "code",
   "execution_count": 3,
   "metadata": {},
   "outputs": [
    {
     "name": "stderr",
     "output_type": "stream",
     "text": [
      "\n",
      "\n",
      "====== WebDriver manager ======\n",
      "Current google-chrome version is 94.0.4606\n",
      "Get LATEST driver version for 94.0.4606\n",
      "Driver [/Users/keshavpatil/.wdm/drivers/chromedriver/mac64/94.0.4606.61/chromedriver] found in cache\n",
      "\n",
      "\n",
      "====== WebDriver manager ======\n"
     ]
    },
    {
     "name": "stdout",
     "output_type": "stream",
     "text": [
      "0\n",
      "['LINCSCP_161324']\n"
     ]
    },
    {
     "name": "stderr",
     "output_type": "stream",
     "text": [
      "Current google-chrome version is 94.0.4606\n",
      "Get LATEST driver version for 94.0.4606\n",
      "Driver [/Users/keshavpatil/.wdm/drivers/chromedriver/mac64/94.0.4606.61/chromedriver] found in cache\n",
      "\n",
      "\n",
      "====== WebDriver manager ======\n",
      "Current google-chrome version is 94.0.4606\n",
      "Get LATEST driver version for 94.0.4606\n"
     ]
    },
    {
     "name": "stdout",
     "output_type": "stream",
     "text": [
      "1\n",
      "Set conditions for the drug name not found in the LINCS... moving to the next drug in the list\n"
     ]
    },
    {
     "name": "stderr",
     "output_type": "stream",
     "text": [
      "Driver [/Users/keshavpatil/.wdm/drivers/chromedriver/mac64/94.0.4606.61/chromedriver] found in cache\n",
      "\n",
      "\n",
      "====== WebDriver manager ======\n",
      "Current google-chrome version is 94.0.4606\n",
      "Get LATEST driver version for 94.0.4606\n"
     ]
    },
    {
     "name": "stdout",
     "output_type": "stream",
     "text": [
      "2\n",
      "['LINCSCP_161324', 'LINCSCP_152893']\n"
     ]
    },
    {
     "name": "stderr",
     "output_type": "stream",
     "text": [
      "Driver [/Users/keshavpatil/.wdm/drivers/chromedriver/mac64/94.0.4606.61/chromedriver] found in cache\n",
      "\n",
      "\n",
      "====== WebDriver manager ======\n",
      "Current google-chrome version is 94.0.4606\n",
      "Get LATEST driver version for 94.0.4606\n"
     ]
    },
    {
     "name": "stdout",
     "output_type": "stream",
     "text": [
      "3\n",
      "Set conditions for the drug name not found in the LINCS... moving to the next drug in the list\n"
     ]
    },
    {
     "name": "stderr",
     "output_type": "stream",
     "text": [
      "Driver [/Users/keshavpatil/.wdm/drivers/chromedriver/mac64/94.0.4606.61/chromedriver] found in cache\n",
      "\n",
      "\n",
      "====== WebDriver manager ======\n",
      "Current google-chrome version is 94.0.4606\n",
      "Get LATEST driver version for 94.0.4606\n"
     ]
    },
    {
     "name": "stdout",
     "output_type": "stream",
     "text": [
      "4\n",
      "Set conditions for the drug name not found in the LINCS... moving to the next drug in the list\n"
     ]
    },
    {
     "name": "stderr",
     "output_type": "stream",
     "text": [
      "Driver [/Users/keshavpatil/.wdm/drivers/chromedriver/mac64/94.0.4606.61/chromedriver] found in cache\n",
      "\n",
      "\n",
      "====== WebDriver manager ======\n",
      "Current google-chrome version is 94.0.4606\n",
      "Get LATEST driver version for 94.0.4606\n"
     ]
    },
    {
     "name": "stdout",
     "output_type": "stream",
     "text": [
      "5\n",
      "['LINCSCP_161324', 'LINCSCP_152893', 'LINCSCP_152947']\n"
     ]
    },
    {
     "name": "stderr",
     "output_type": "stream",
     "text": [
      "Driver [/Users/keshavpatil/.wdm/drivers/chromedriver/mac64/94.0.4606.61/chromedriver] found in cache\n",
      "\n",
      "\n",
      "====== WebDriver manager ======\n",
      "Current google-chrome version is 94.0.4606\n",
      "Get LATEST driver version for 94.0.4606\n"
     ]
    },
    {
     "name": "stdout",
     "output_type": "stream",
     "text": [
      "6\n",
      "Set conditions for the drug name not found in the LINCS... moving to the next drug in the list\n"
     ]
    },
    {
     "name": "stderr",
     "output_type": "stream",
     "text": [
      "Driver [/Users/keshavpatil/.wdm/drivers/chromedriver/mac64/94.0.4606.61/chromedriver] found in cache\n",
      "\n",
      "\n",
      "====== WebDriver manager ======\n",
      "Current google-chrome version is 94.0.4606\n",
      "Get LATEST driver version for 94.0.4606\n"
     ]
    },
    {
     "name": "stdout",
     "output_type": "stream",
     "text": [
      "7\n",
      "Set conditions for the drug name not found in the LINCS... moving to the next drug in the list\n"
     ]
    },
    {
     "name": "stderr",
     "output_type": "stream",
     "text": [
      "Driver [/Users/keshavpatil/.wdm/drivers/chromedriver/mac64/94.0.4606.61/chromedriver] found in cache\n",
      "\n",
      "\n",
      "====== WebDriver manager ======\n",
      "Current google-chrome version is 94.0.4606\n",
      "Get LATEST driver version for 94.0.4606\n"
     ]
    },
    {
     "name": "stdout",
     "output_type": "stream",
     "text": [
      "Drug name {'urofollitropin'} not found in the LINCS... moving to the next drug in the list\n"
     ]
    },
    {
     "name": "stderr",
     "output_type": "stream",
     "text": [
      "Driver [/Users/keshavpatil/.wdm/drivers/chromedriver/mac64/94.0.4606.61/chromedriver] found in cache\n",
      "\n",
      "\n",
      "====== WebDriver manager ======\n",
      "Current google-chrome version is 94.0.4606\n",
      "Get LATEST driver version for 94.0.4606\n"
     ]
    },
    {
     "name": "stdout",
     "output_type": "stream",
     "text": [
      "9\n",
      "Set conditions for the drug name not found in the LINCS... moving to the next drug in the list\n"
     ]
    },
    {
     "name": "stderr",
     "output_type": "stream",
     "text": [
      "Driver [/Users/keshavpatil/.wdm/drivers/chromedriver/mac64/94.0.4606.61/chromedriver] found in cache\n",
      "\n",
      "\n",
      "====== WebDriver manager ======\n"
     ]
    },
    {
     "name": "stdout",
     "output_type": "stream",
     "text": [
      "10\n",
      "['LINCSCP_161324', 'LINCSCP_152893', 'LINCSCP_152947', 'LINCSCP_44017']\n"
     ]
    },
    {
     "name": "stderr",
     "output_type": "stream",
     "text": [
      "Current google-chrome version is 94.0.4606\n",
      "Get LATEST driver version for 94.0.4606\n",
      "Driver [/Users/keshavpatil/.wdm/drivers/chromedriver/mac64/94.0.4606.61/chromedriver] found in cache\n",
      "\n",
      "\n",
      "====== WebDriver manager ======\n",
      "Current google-chrome version is 94.0.4606\n",
      "Get LATEST driver version for 94.0.4606\n"
     ]
    },
    {
     "name": "stdout",
     "output_type": "stream",
     "text": [
      "11\n",
      "Set conditions for the drug name not found in the LINCS... moving to the next drug in the list\n"
     ]
    },
    {
     "name": "stderr",
     "output_type": "stream",
     "text": [
      "Driver [/Users/keshavpatil/.wdm/drivers/chromedriver/mac64/94.0.4606.61/chromedriver] found in cache\n",
      "\n",
      "\n",
      "====== WebDriver manager ======\n",
      "Current google-chrome version is 94.0.4606\n"
     ]
    },
    {
     "name": "stdout",
     "output_type": "stream",
     "text": [
      "12\n",
      "['LINCSCP_161324', 'LINCSCP_152893', 'LINCSCP_152947', 'LINCSCP_44017', 'LINCSCP_272018']\n"
     ]
    },
    {
     "name": "stderr",
     "output_type": "stream",
     "text": [
      "Get LATEST driver version for 94.0.4606\n",
      "Driver [/Users/keshavpatil/.wdm/drivers/chromedriver/mac64/94.0.4606.61/chromedriver] found in cache\n"
     ]
    },
    {
     "name": "stdout",
     "output_type": "stream",
     "text": [
      "13\n",
      "Set conditions for the drug name not found in the LINCS... moving to the next drug in the list\n"
     ]
    }
   ],
   "source": [
    "from selenium import webdriver\n",
    "import time\n",
    "from selenium import webdriver\n",
    "from selenium.webdriver.common.by import By\n",
    "from selenium.webdriver.support.ui import WebDriverWait\n",
    "from selenium.webdriver.support import expected_conditions as EC\n",
    "from selenium.webdriver.support.ui import WebDriverWait\n",
    "from selenium.common.exceptions import NoSuchElementException\n",
    "import pandas as pd\n",
    "import numpy as np\n",
    "from selenium import webdriver\n",
    "from webdriver_manager.chrome import ChromeDriverManager\n",
    "\n",
    "\n",
    "# pickup the drug names as input\n",
    "df_name = pd.read_excel('/Users/keshavpatil/Desktop/RebootRx/PRAD/Drug_names.xlsx') #change this to path where your drug names file is stored\n",
    "d  = np.array(df_name)\n",
    "\n",
    "sign_id = []\n",
    "d_name = []\n",
    "\n",
    "\n",
    "# loop through each drug to extract signature ID of ech drug\n",
    "for i in range(0,len(df_name)): \n",
    "    driver = webdriver.Chrome(ChromeDriverManager().install()) \n",
    "    #driver = webdriver.Chrome(\"/Users/keshavpatil/Downloads/chromedriver\") \n",
    "    driver.get(\"http://www.ilincs.org/ilincs/signatures/search/\"+ d[i][0].lower()) \n",
    "    time.sleep(10)\n",
    "    q = existsElement(driver, d[i][0].lower())\n",
    "    if q:\n",
    "        button = driver.find_element_by_partial_link_text('of LINCS chemical perturbagen signatures') \n",
    "        button.click()\n",
    "        l = WebDriverWait(driver, 60).until(EC.presence_of_element_located((By.XPATH, \"//button[@data-title='Signature selection']\")))\n",
    "        l.click()\n",
    "        l1 = WebDriverWait(driver, 60).until(EC.presence_of_element_located((By.XPATH, \"//button[@title='Select all found signatures']\")))\n",
    "        l1.click()\n",
    "        l2 = WebDriverWait(driver, 60).until(EC.presence_of_element_located((By.XPATH, \"//i[@class='fa fa-download']\")))\n",
    "        l2.click()\n",
    "        l3 = WebDriverWait(driver, 60).until(EC.presence_of_element_located((By.XPATH, \"//button[@title='Download all found signatures results table.']\")))\n",
    "        l3.click()\n",
    "        \n",
    "        time.sleep(10)\n",
    "        file = latest_download_file()\n",
    "        my_file = file\n",
    "        base = os.path.splitext(my_file)[0]\n",
    "        os.rename(my_file, base + '.csv')\n",
    "        \n",
    "        \n",
    "        df_drug = pd.read_csv('/Users/keshavpatil/Downloads/'+ base + '.csv',sep='\\t')\n",
    "        \n",
    "        print(i)\n",
    "              \n",
    "    else:\n",
    "        print(\"Drug name {a} not found in the LINCS... moving to the next drug in the list\".format(a={d[i][0].lower()}))\n",
    "        driver.close() \n",
    "        continue\n",
    "         \n",
    "    driver.close() \n",
    "    \n",
    "    \n",
    "    if ((df_drug['CellLine'] == 'PC3') & (df_drug['Time'] == '24h') & (df_drug['Concentration'] == '10uM') & (df_drug['Perturbagen'] == d[i][0])).any():     \n",
    "    # setting the experimental conditions to extract the needed signature ID        \n",
    "        df_extract1 = df_drug[df_drug['CellLine'] == 'PC3']\n",
    "        df_extract2 = df_extract1[df_extract1['Time'] == '24h']\n",
    "        df_extract3 = df_extract2[df_extract2['Concentration'] == '10uM']\n",
    "        df_extract4 = df_extract3[df_extract3['Perturbagen'] == d[i][0]]\n",
    "        d_name.append(d[i][0].lower())\n",
    "\n",
    "    else:\n",
    "        print(\"Set conditions for the drug name not found in the LINCS... moving to the next drug in the list\")\n",
    "        continue\n",
    "\n",
    "\n",
    "    a = np.array(df_extract4)\n",
    "    sign_id.append(a[0][0])\n",
    "    print(sign_id)\n",
    "\n"
   ]
  },
  {
   "cell_type": "markdown",
   "metadata": {},
   "source": [
    "The following cell contains the function to compute the discordance of the drugs whose data has been successfully extracted\n",
    "https://www.nature.com/articles/s41467-018-07659-z.pdf"
   ]
  },
  {
   "cell_type": "code",
   "execution_count": 5,
   "metadata": {},
   "outputs": [],
   "source": [
    "# Compute discordance for the drugs with respect to disease\n",
    "def discordance(df_gene_drug):\n",
    "    df_disease = pd.read_csv('/Users/keshavpatil/Desktop/RebootRx/PRAD/PRAD_MatchedSample_DESeqResults.csv')\n",
    "    \n",
    "    numerator = 1\n",
    "    denominator = 1\n",
    "    for j in range(0,len(df_gene_drug)):\n",
    "        for k in range(0,len(df_disease)):\n",
    "            if df_gene_drug['Name_GeneSymbol'].values[j] == df_disease['Unnamed: 0'].values[k].split('|')[0]:\n",
    "                if np.sign(df_gene_drug['Value_LogDiffExp'].values[j]) == np.sign(df_disease['log2FoldChange'].values[k]):\n",
    "                    denominator = denominator + 1\n",
    "                    numerator = numerator + 0\n",
    "                else:\n",
    "                    numerator = numerator + 1\n",
    "                    denominator = denominator + 0\n",
    "    discordance = numerator/denominator\n",
    "    \n",
    "    return discordance\n",
    "                                 "
   ]
  },
  {
   "cell_type": "markdown",
   "metadata": {},
   "source": [
    "The following cell downloads the gene signature of the drugs based on the signature IDs extracted earlier"
   ]
  },
  {
   "cell_type": "code",
   "execution_count": 6,
   "metadata": {},
   "outputs": [
    {
     "name": "stderr",
     "output_type": "stream",
     "text": [
      "\n",
      "\n",
      "====== WebDriver manager ======\n",
      "Current google-chrome version is 94.0.4606\n",
      "Get LATEST driver version for 94.0.4606\n",
      "Driver [/Users/keshavpatil/.wdm/drivers/chromedriver/mac64/94.0.4606.61/chromedriver] found in cache\n",
      "\n",
      "\n",
      "====== WebDriver manager ======\n",
      "Current google-chrome version is 94.0.4606\n",
      "Get LATEST driver version for 94.0.4606\n"
     ]
    },
    {
     "name": "stdout",
     "output_type": "stream",
     "text": [
      "[1.055793991416309]\n"
     ]
    },
    {
     "name": "stderr",
     "output_type": "stream",
     "text": [
      "Driver [/Users/keshavpatil/.wdm/drivers/chromedriver/mac64/94.0.4606.61/chromedriver] found in cache\n",
      "\n",
      "\n",
      "====== WebDriver manager ======\n"
     ]
    },
    {
     "name": "stdout",
     "output_type": "stream",
     "text": [
      "[1.055793991416309, 1.259433962264151]\n"
     ]
    },
    {
     "name": "stderr",
     "output_type": "stream",
     "text": [
      "Current google-chrome version is 94.0.4606\n",
      "Get LATEST driver version for 94.0.4606\n",
      "Driver [/Users/keshavpatil/.wdm/drivers/chromedriver/mac64/94.0.4606.61/chromedriver] found in cache\n",
      "\n",
      "\n",
      "====== WebDriver manager ======\n"
     ]
    },
    {
     "name": "stdout",
     "output_type": "stream",
     "text": [
      "[1.055793991416309, 1.259433962264151, 1.2647754137115839]\n"
     ]
    },
    {
     "name": "stderr",
     "output_type": "stream",
     "text": [
      "Current google-chrome version is 94.0.4606\n",
      "Get LATEST driver version for 94.0.4606\n",
      "Driver [/Users/keshavpatil/.wdm/drivers/chromedriver/mac64/94.0.4606.61/chromedriver] found in cache\n"
     ]
    },
    {
     "name": "stdout",
     "output_type": "stream",
     "text": [
      "[1.055793991416309, 1.259433962264151, 1.2647754137115839, 1.0382978723404255]\n"
     ]
    },
    {
     "name": "stderr",
     "output_type": "stream",
     "text": [
      "\n",
      "\n",
      "====== WebDriver manager ======\n",
      "Current google-chrome version is 94.0.4606\n",
      "Get LATEST driver version for 94.0.4606\n",
      "Driver [/Users/keshavpatil/.wdm/drivers/chromedriver/mac64/94.0.4606.61/chromedriver] found in cache\n"
     ]
    },
    {
     "name": "stdout",
     "output_type": "stream",
     "text": [
      "[1.055793991416309, 1.259433962264151, 1.2647754137115839, 1.0382978723404255, 1.0083857442348008]\n"
     ]
    }
   ],
   "source": [
    "\n",
    "# download df_gene_drug\n",
    "discord = []\n",
    "for i in range(0,len(sign_id)):\n",
    "    \n",
    "    \n",
    "    \n",
    "    driver = webdriver.Chrome(ChromeDriverManager().install())\n",
    "    driver.get(\"http://www.ilincs.org/ilincs/signature/\"+sign_id[i]) \n",
    "\n",
    "    time.sleep(10) \n",
    "    \n",
    "    l6 = WebDriverWait(driver, 60).until(EC.presence_of_element_located((By.XPATH, \"//i[@class='fa fa-download']\")))\n",
    "    l6.click()\n",
    "    l7 = WebDriverWait(driver, 60).until(EC.presence_of_element_located((By.PARTIAL_LINK_TEXT, \"complete signature (xls)\")))\n",
    "    l7.click()\n",
    "    \n",
    "    time.sleep(10)\n",
    "    file = latest_download_file()\n",
    "    my_file = file\n",
    "    base = os.path.splitext(my_file)[0]\n",
    "    os.rename(my_file, base + '.csv')\n",
    "\n",
    "    df_gene_drug = pd.read_csv('/Users/keshavpatil/Downloads/'+ base + '.csv',sep='\\t')  \n",
    "    \n",
    "    # compute discordance and save it\n",
    "    discord.append(discordance(df_gene_drug))\n",
    "    print(discord)\n",
    "    \n",
    "    driver.close()"
   ]
  },
  {
   "cell_type": "markdown",
   "metadata": {},
   "source": [
    "The following cell finally returns the rank ordered list of the drugs"
   ]
  },
  {
   "cell_type": "code",
   "execution_count": 7,
   "metadata": {},
   "outputs": [
    {
     "data": {
      "text/html": [
       "<div>\n",
       "<style scoped>\n",
       "    .dataframe tbody tr th:only-of-type {\n",
       "        vertical-align: middle;\n",
       "    }\n",
       "\n",
       "    .dataframe tbody tr th {\n",
       "        vertical-align: top;\n",
       "    }\n",
       "\n",
       "    .dataframe thead th {\n",
       "        text-align: right;\n",
       "    }\n",
       "</style>\n",
       "<table border=\"1\" class=\"dataframe\">\n",
       "  <thead>\n",
       "    <tr style=\"text-align: right;\">\n",
       "      <th></th>\n",
       "      <th>drug_name</th>\n",
       "      <th>discordance</th>\n",
       "    </tr>\n",
       "  </thead>\n",
       "  <tbody>\n",
       "    <tr>\n",
       "      <th>2</th>\n",
       "      <td>dutasteride</td>\n",
       "      <td>1.264775</td>\n",
       "    </tr>\n",
       "    <tr>\n",
       "      <th>1</th>\n",
       "      <td>calcitriol</td>\n",
       "      <td>1.259434</td>\n",
       "    </tr>\n",
       "    <tr>\n",
       "      <th>0</th>\n",
       "      <td>metformin</td>\n",
       "      <td>1.055794</td>\n",
       "    </tr>\n",
       "    <tr>\n",
       "      <th>3</th>\n",
       "      <td>digoxin</td>\n",
       "      <td>1.038298</td>\n",
       "    </tr>\n",
       "    <tr>\n",
       "      <th>4</th>\n",
       "      <td>ganciclovir</td>\n",
       "      <td>1.008386</td>\n",
       "    </tr>\n",
       "  </tbody>\n",
       "</table>\n",
       "</div>"
      ],
      "text/plain": [
       "     drug_name  discordance\n",
       "2  dutasteride     1.264775\n",
       "1   calcitriol     1.259434\n",
       "0    metformin     1.055794\n",
       "3      digoxin     1.038298\n",
       "4  ganciclovir     1.008386"
      ]
     },
     "execution_count": 7,
     "metadata": {},
     "output_type": "execute_result"
    }
   ],
   "source": [
    "# Display order\n",
    "dataset = pd.DataFrame({'drug_name': d_name, 'discordance': discord}, columns=['drug_name', 'discordance'])\n",
    "drug_sorted = dataset.sort_values([\"discordance\", \"drug_name\"], ascending=False)\n",
    "drug_sorted"
   ]
  },
  {
   "cell_type": "markdown",
   "metadata": {},
   "source": [
    "#### ----------------------------------------------------------- THE END ----------------------------------------------------------"
   ]
  }
 ],
 "metadata": {
  "kernelspec": {
   "display_name": "mdanalysis",
   "language": "python",
   "name": "mdanalysis"
  },
  "language_info": {
   "codemirror_mode": {
    "name": "ipython",
    "version": 3
   },
   "file_extension": ".py",
   "mimetype": "text/x-python",
   "name": "python",
   "nbconvert_exporter": "python",
   "pygments_lexer": "ipython3",
   "version": "3.8.5"
  }
 },
 "nbformat": 4,
 "nbformat_minor": 4
}
